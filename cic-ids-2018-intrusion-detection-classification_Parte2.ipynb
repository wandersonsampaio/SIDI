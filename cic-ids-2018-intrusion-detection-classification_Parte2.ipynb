{
 "cells": [
  {
   "cell_type": "code",
   "execution_count": 1,
   "id": "d3a22c5a",
   "metadata": {},
   "outputs": [],
   "source": [
    "\n",
    "import numpy as np # linear algebra\n",
    "import pandas as pd # data processing, CSV file I/O (e.g. pd.read_csv)\n",
    "import warnings\n",
    "warnings.filterwarnings('ignore')"
   ]
  },
  {
   "cell_type": "code",
   "execution_count": 2,
   "id": "f5ebd068",
   "metadata": {},
   "outputs": [
    {
     "name": "stdout",
     "output_type": "stream",
     "text": [
      "CPU times: total: 1min 28s\n",
      "Wall time: 2min 26s\n"
     ]
    }
   ],
   "source": [
    "%%time\n",
    "dia4 = pd.read_csv('02-20-2018.csv', low_memory=False)"
   ]
  },
  {
   "cell_type": "code",
   "execution_count": 3,
   "id": "87a7b157",
   "metadata": {},
   "outputs": [
    {
     "data": {
      "text/plain": [
       "Benign                    7372557\n",
       "DDoS attacks-LOIC-HTTP     576191\n",
       "Name: Label, dtype: int64"
      ]
     },
     "execution_count": 3,
     "metadata": {},
     "output_type": "execute_result"
    }
   ],
   "source": [
    "#Somando \n",
    "dia4['Label'].value_counts()"
   ]
  },
  {
   "cell_type": "code",
   "execution_count": 4,
   "id": "f12a46d2",
   "metadata": {},
   "outputs": [],
   "source": [
    "instancia_total_4 = dia4.shape[0]\n",
    "instancia_b_4 = dia4[dia4['Label'] == 'Benign'].shape[0]\n",
    "instancia_ddos_loic = dia4[dia4['Label'] == 'DDoS attacks-LOIC-HTTP'].shape[0]\n"
   ]
  },
  {
   "cell_type": "code",
   "execution_count": 5,
   "id": "78c52d0a",
   "metadata": {},
   "outputs": [
    {
     "name": "stdout",
     "output_type": "stream",
     "text": [
      "Dia 02-20-2018 \n",
      "\n",
      "7372557 linhas consideradas Benign, o que é equivalente a 92.75117288911412% do dataset 02-20-2018 \n",
      "576191 linhas consideradas DDoS attacks-LOIC-HTTP, o que é equivalente a 7.24882711088589% do dataset 02-20-2018\n"
     ]
    }
   ],
   "source": [
    "print (\"Dia 02-20-2018 \\n\")\n",
    "\n",
    "print(\"{} linhas consideradas Benign, o que é equivalente a {}% do dataset 02-20-2018 \".format(instancia_b_4, (instancia_b_4*100/instancia_total_4)))\n",
    "print(\"{} linhas consideradas DDoS attacks-LOIC-HTTP, o que é equivalente a {}% do dataset 02-20-2018\".format(instancia_ddos_loic, (instancia_ddos_loic*100/instancia_total_4)))\n"
   ]
  },
  {
   "cell_type": "code",
   "execution_count": 6,
   "id": "1f48609c",
   "metadata": {},
   "outputs": [],
   "source": [
    "#Criando um novo dataset apenas com o Label Benign\n",
    "dia4_benign = dia4[dia4['Label'] == 'Benign']\n",
    "regulador = instancia_ddos_loic\n",
    "dia4_benign = dia4_benign.sample(n = regulador)"
   ]
  },
  {
   "cell_type": "code",
   "execution_count": 7,
   "id": "04e84075",
   "metadata": {},
   "outputs": [],
   "source": [
    "dia4_no_benign = dia4\n",
    "dia4_no_benign.drop(dia4_no_benign.loc[dia4_no_benign['Label']=='Benign'].index, inplace=True)"
   ]
  },
  {
   "cell_type": "code",
   "execution_count": 8,
   "id": "4968b613",
   "metadata": {},
   "outputs": [],
   "source": [
    "novo_dia4 = pd.concat([dia4_benign, dia4_no_benign], axis=0)"
   ]
  },
  {
   "cell_type": "code",
   "execution_count": 9,
   "id": "20bc7614",
   "metadata": {},
   "outputs": [
    {
     "data": {
      "text/plain": [
       "(1152382, 84)"
      ]
     },
     "execution_count": 9,
     "metadata": {},
     "output_type": "execute_result"
    }
   ],
   "source": [
    "novo_dia4.shape"
   ]
  },
  {
   "cell_type": "code",
   "execution_count": 10,
   "id": "b0183f62",
   "metadata": {},
   "outputs": [],
   "source": [
    "instancia_novo_dia4 = novo_dia4.shape[0]\n",
    "instancia_novo_b = novo_dia4[novo_dia4['Label'] == 'Benign'].shape[0]"
   ]
  },
  {
   "cell_type": "code",
   "execution_count": 15,
   "id": "2f0dd9f0",
   "metadata": {},
   "outputs": [
    {
     "name": "stdout",
     "output_type": "stream",
     "text": [
      "\n",
      "\n",
      "7372557 linhas consideradas Benign no dataset original, o que é equivalente a 92.75117288911412% do dataset\n",
      "576191 linhas consideradas Benign no novo dataset original, o que é equivalente a 50.0% do dataset\n",
      "Foram removidas 6796366 linhas consideradas Benign do antigo dataset, o que é equivalente a 85.50234577822822% do dataset\n"
     ]
    }
   ],
   "source": [
    "print (\"\\n\")\n",
    "\n",
    "print(\"{} linhas consideradas Benign no dataset original, o que é equivalente a {}% do dataset\".format(instancia_b_4, (instancia_b_4*100/instancia_total_4)))\n",
    "print(\"{} linhas consideradas Benign no novo dataset original, o que é equivalente a {}% do dataset\".format(instancia_novo_b, (instancia_novo_b*100/instancia_novo_dia4)))\n",
    "print(\"Foram removidas {} linhas consideradas Benign do antigo dataset, o que é equivalente a {}% do dataset\".format((instancia_b_4-regulador),((instancia_b_4-regulador)*100/instancia_total_4)))\n"
   ]
  },
  {
   "cell_type": "code",
   "execution_count": 16,
   "id": "8821bfa5",
   "metadata": {},
   "outputs": [],
   "source": [
    "novo_dia4.to_csv('novo_dia4.csv', index=False)"
   ]
  },
  {
   "cell_type": "code",
   "execution_count": null,
   "id": "e7f0df6c",
   "metadata": {},
   "outputs": [],
   "source": []
  }
 ],
 "metadata": {
  "kernelspec": {
   "display_name": "Python 3 (ipykernel)",
   "language": "python",
   "name": "python3"
  },
  "language_info": {
   "codemirror_mode": {
    "name": "ipython",
    "version": 3
   },
   "file_extension": ".py",
   "mimetype": "text/x-python",
   "name": "python",
   "nbconvert_exporter": "python",
   "pygments_lexer": "ipython3",
   "version": "3.9.12"
  }
 },
 "nbformat": 4,
 "nbformat_minor": 5
}
